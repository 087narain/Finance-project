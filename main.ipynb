{
 "cells": [
  {
   "cell_type": "markdown",
   "metadata": {
    "vscode": {
     "languageId": "raw"
    }
   },
   "source": [
    "Plan:\n",
    "    -   Select stock (e.g., AAPL, MSFT, TSLA, AZN.L) from NASDAQ or FTSE 100.\n",
    "    -   Collect historical price data via yfinance (include also OHLCV, technical indicators like SMA/RSI/MACD)\n",
    "    -   Prediction -> Time series regression via sliding window \n",
    "    -   Model = LSTM (form of RNN) via PyTorch (reduces vanishing gradient)\n",
    "    -   Train test split \n",
    "    -   Performance metrics: RMSE, MAE, Directional Accuracy (compare against 50%), matplotlib "
   ]
  },
  {
   "cell_type": "code",
   "execution_count": null,
   "metadata": {
    "vscode": {
     "languageId": "plaintext"
    }
   },
   "outputs": [],
   "source": []
  }
 ],
 "metadata": {
  "language_info": {
   "name": "python"
  }
 },
 "nbformat": 4,
 "nbformat_minor": 2
}
