{
 "cells": [
  {
   "cell_type": "markdown",
   "metadata": {
    "vscode": {
     "languageId": "raw"
    }
   },
   "source": [
    "Plan:\n",
    "    -   Select stock (e.g., AAPL, MSFT, TSLA, AZN.L) from NASDAQ or FTSE 100.\n",
    "    -   Collect historical price data via yfinance (include also OHLCV, technical indicators like SMA/RSI/MACD)\n",
    "    -   Prediction -> Time series regression via sliding window \n",
    "    -   Model = LSTM (form of RNN) via PyTorch (reduces vanishing gradient)\n",
    "    -   Train test split \n",
    "    -   Performance metrics: RMSE, MAE, Directional Accuracy (compare against 50%), matplotlib \n",
    "\n",
    "Choice of stock: Nike"
   ]
  },
  {
   "cell_type": "code",
   "execution_count": 3,
   "metadata": {},
   "outputs": [
    {
     "name": "stderr",
     "output_type": "stream",
     "text": [
      "Matplotlib is building the font cache; this may take a moment.\n"
     ]
    }
   ],
   "source": [
    "import yfinance as yf\n",
    "import pandas as pd\n",
    "import matplotlib.pyplot as plt\n",
    "\n",
    "%matplotlib inline"
   ]
  }
 ],
 "metadata": {
  "kernelspec": {
   "display_name": "Python 3",
   "language": "python",
   "name": "python3"
  },
  "language_info": {
   "codemirror_mode": {
    "name": "ipython",
    "version": 3
   },
   "file_extension": ".py",
   "mimetype": "text/x-python",
   "name": "python",
   "nbconvert_exporter": "python",
   "pygments_lexer": "ipython3",
   "version": "3.9.6"
  }
 },
 "nbformat": 4,
 "nbformat_minor": 2
}
